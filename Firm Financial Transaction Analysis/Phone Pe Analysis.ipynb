{
 "cells": [
  {
   "cell_type": "code",
   "execution_count": 10,
   "id": "4f348c85-3a2f-4ecb-9b2a-25e27eb3b071",
   "metadata": {},
   "outputs": [],
   "source": [
    "import pandas as pd\n",
    "from tabula import read_pdf\n",
    "import PyPDF2\n",
    "\n"
   ]
  },
  {
   "cell_type": "code",
   "execution_count": 12,
   "id": "9d7b8ae3-e887-4c39-bc9e-47ecb365e302",
   "metadata": {},
   "outputs": [],
   "source": [
    "reader = PyPDF2.PdfReader(\"PhonePe_Statement_Jun2023_Jun2024 (1) (1).pdf\")"
   ]
  },
  {
   "cell_type": "code",
   "execution_count": 14,
   "id": "74da74d7-9fce-4f7b-bb3e-1d0c68cbea6f",
   "metadata": {},
   "outputs": [
    {
     "name": "stdout",
     "output_type": "stream",
     "text": [
      "92\n"
     ]
    }
   ],
   "source": [
    "print(len(reader.pages))\n",
    "\n",
    "# print the text of the first page\n",
    "#print(reader.pages[0].extract_text())"
   ]
  },
  {
   "cell_type": "code",
   "execution_count": 15,
   "id": "ea824c6a-436d-4743-80e7-764c6b2252ba",
   "metadata": {},
   "outputs": [
    {
     "data": {
      "text/plain": [
       "<PyPDF2._reader.PdfReader at 0x15a73e53200>"
      ]
     },
     "execution_count": 15,
     "metadata": {},
     "output_type": "execute_result"
    }
   ],
   "source": []
  },
  {
   "cell_type": "code",
   "execution_count": null,
   "id": "3090a4c7-0146-44b5-85a0-6b2c704f54d6",
   "metadata": {},
   "outputs": [],
   "source": []
  }
 ],
 "metadata": {
  "kernelspec": {
   "display_name": "Python 3 (ipykernel)",
   "language": "python",
   "name": "python3"
  },
  "language_info": {
   "codemirror_mode": {
    "name": "ipython",
    "version": 3
   },
   "file_extension": ".py",
   "mimetype": "text/x-python",
   "name": "python",
   "nbconvert_exporter": "python",
   "pygments_lexer": "ipython3",
   "version": "3.12.3"
  }
 },
 "nbformat": 4,
 "nbformat_minor": 5
}
